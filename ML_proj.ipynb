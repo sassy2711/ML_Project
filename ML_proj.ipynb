{
 "cells": [
  {
   "cell_type": "markdown",
   "metadata": {},
   "source": [
    "# Machine Learning Project "
   ]
  },
  {
   "cell_type": "markdown",
   "metadata": {},
   "source": [
    "## Part 1"
   ]
  },
  {
   "cell_type": "markdown",
   "metadata": {},
   "source": [
    "Importing libraries and loading the test and train datasets."
   ]
  },
  {
   "cell_type": "code",
   "execution_count": 2,
   "metadata": {
    "id": "7sKbY6sjv0Qk"
   },
   "outputs": [],
   "source": [
    "import numpy as np\n",
    "import pandas as pd\n",
    "import matplotlib.pyplot as plt\n",
    "import seaborn as sns\n",
    "\n",
    "train_df=pd.read_csv(\"train.csv\")\n",
    "test_df=pd.read_csv(\"test.csv\")\n",
    "\n"
   ]
  },
  {
   "cell_type": "code",
   "execution_count": 2,
   "metadata": {},
   "outputs": [
    {
     "data": {
      "text/html": [
       "<div>\n",
       "<style scoped>\n",
       "    .dataframe tbody tr th:only-of-type {\n",
       "        vertical-align: middle;\n",
       "    }\n",
       "\n",
       "    .dataframe tbody tr th {\n",
       "        vertical-align: top;\n",
       "    }\n",
       "\n",
       "    .dataframe thead th {\n",
       "        text-align: right;\n",
       "    }\n",
       "</style>\n",
       "<table border=\"1\" class=\"dataframe\">\n",
       "  <thead>\n",
       "    <tr style=\"text-align: right;\">\n",
       "      <th></th>\n",
       "      <th>LoanID</th>\n",
       "      <th>Age</th>\n",
       "      <th>Income</th>\n",
       "      <th>LoanAmount</th>\n",
       "      <th>CreditScore</th>\n",
       "      <th>MonthsEmployed</th>\n",
       "      <th>NumCreditLines</th>\n",
       "      <th>InterestRate</th>\n",
       "      <th>LoanTerm</th>\n",
       "      <th>DTIRatio</th>\n",
       "      <th>Education</th>\n",
       "      <th>EmploymentType</th>\n",
       "      <th>MaritalStatus</th>\n",
       "      <th>HasMortgage</th>\n",
       "      <th>HasDependents</th>\n",
       "      <th>LoanPurpose</th>\n",
       "      <th>HasCoSigner</th>\n",
       "      <th>Default</th>\n",
       "    </tr>\n",
       "  </thead>\n",
       "  <tbody>\n",
       "    <tr>\n",
       "      <th>0</th>\n",
       "      <td>DRIRC89L0T</td>\n",
       "      <td>18</td>\n",
       "      <td>137576</td>\n",
       "      <td>209136</td>\n",
       "      <td>846</td>\n",
       "      <td>26</td>\n",
       "      <td>2</td>\n",
       "      <td>10.47</td>\n",
       "      <td>60</td>\n",
       "      <td>0.81</td>\n",
       "      <td>High School</td>\n",
       "      <td>Self-employed</td>\n",
       "      <td>Single</td>\n",
       "      <td>Yes</td>\n",
       "      <td>No</td>\n",
       "      <td>Business</td>\n",
       "      <td>No</td>\n",
       "      <td>0</td>\n",
       "    </tr>\n",
       "    <tr>\n",
       "      <th>1</th>\n",
       "      <td>TS0FIUNHNU</td>\n",
       "      <td>47</td>\n",
       "      <td>57194</td>\n",
       "      <td>5970</td>\n",
       "      <td>748</td>\n",
       "      <td>30</td>\n",
       "      <td>2</td>\n",
       "      <td>19.72</td>\n",
       "      <td>36</td>\n",
       "      <td>0.73</td>\n",
       "      <td>High School</td>\n",
       "      <td>Unemployed</td>\n",
       "      <td>Divorced</td>\n",
       "      <td>No</td>\n",
       "      <td>Yes</td>\n",
       "      <td>Education</td>\n",
       "      <td>No</td>\n",
       "      <td>0</td>\n",
       "    </tr>\n",
       "    <tr>\n",
       "      <th>2</th>\n",
       "      <td>I0YR284A1V</td>\n",
       "      <td>26</td>\n",
       "      <td>84328</td>\n",
       "      <td>95065</td>\n",
       "      <td>453</td>\n",
       "      <td>7</td>\n",
       "      <td>2</td>\n",
       "      <td>24.25</td>\n",
       "      <td>12</td>\n",
       "      <td>0.45</td>\n",
       "      <td>Master's</td>\n",
       "      <td>Self-employed</td>\n",
       "      <td>Married</td>\n",
       "      <td>No</td>\n",
       "      <td>No</td>\n",
       "      <td>Other</td>\n",
       "      <td>Yes</td>\n",
       "      <td>0</td>\n",
       "    </tr>\n",
       "    <tr>\n",
       "      <th>3</th>\n",
       "      <td>WB1T7NQV8A</td>\n",
       "      <td>53</td>\n",
       "      <td>49795</td>\n",
       "      <td>229582</td>\n",
       "      <td>533</td>\n",
       "      <td>107</td>\n",
       "      <td>3</td>\n",
       "      <td>14.44</td>\n",
       "      <td>60</td>\n",
       "      <td>0.17</td>\n",
       "      <td>Bachelor's</td>\n",
       "      <td>Self-employed</td>\n",
       "      <td>Single</td>\n",
       "      <td>Yes</td>\n",
       "      <td>No</td>\n",
       "      <td>Auto</td>\n",
       "      <td>Yes</td>\n",
       "      <td>1</td>\n",
       "    </tr>\n",
       "    <tr>\n",
       "      <th>4</th>\n",
       "      <td>J6GU9M4G1Z</td>\n",
       "      <td>49</td>\n",
       "      <td>115450</td>\n",
       "      <td>22072</td>\n",
       "      <td>840</td>\n",
       "      <td>0</td>\n",
       "      <td>4</td>\n",
       "      <td>24.48</td>\n",
       "      <td>12</td>\n",
       "      <td>0.11</td>\n",
       "      <td>Bachelor's</td>\n",
       "      <td>Part-time</td>\n",
       "      <td>Single</td>\n",
       "      <td>No</td>\n",
       "      <td>Yes</td>\n",
       "      <td>Education</td>\n",
       "      <td>Yes</td>\n",
       "      <td>0</td>\n",
       "    </tr>\n",
       "    <tr>\n",
       "      <th>...</th>\n",
       "      <td>...</td>\n",
       "      <td>...</td>\n",
       "      <td>...</td>\n",
       "      <td>...</td>\n",
       "      <td>...</td>\n",
       "      <td>...</td>\n",
       "      <td>...</td>\n",
       "      <td>...</td>\n",
       "      <td>...</td>\n",
       "      <td>...</td>\n",
       "      <td>...</td>\n",
       "      <td>...</td>\n",
       "      <td>...</td>\n",
       "      <td>...</td>\n",
       "      <td>...</td>\n",
       "      <td>...</td>\n",
       "      <td>...</td>\n",
       "      <td>...</td>\n",
       "    </tr>\n",
       "    <tr>\n",
       "      <th>204272</th>\n",
       "      <td>KYS1HKNGGE</td>\n",
       "      <td>40</td>\n",
       "      <td>116623</td>\n",
       "      <td>161673</td>\n",
       "      <td>651</td>\n",
       "      <td>79</td>\n",
       "      <td>2</td>\n",
       "      <td>23.44</td>\n",
       "      <td>12</td>\n",
       "      <td>0.87</td>\n",
       "      <td>Bachelor's</td>\n",
       "      <td>Part-time</td>\n",
       "      <td>Divorced</td>\n",
       "      <td>No</td>\n",
       "      <td>No</td>\n",
       "      <td>Home</td>\n",
       "      <td>Yes</td>\n",
       "      <td>0</td>\n",
       "    </tr>\n",
       "    <tr>\n",
       "      <th>204273</th>\n",
       "      <td>5MAOH3AOZO</td>\n",
       "      <td>67</td>\n",
       "      <td>62958</td>\n",
       "      <td>189499</td>\n",
       "      <td>460</td>\n",
       "      <td>77</td>\n",
       "      <td>3</td>\n",
       "      <td>9.29</td>\n",
       "      <td>36</td>\n",
       "      <td>0.11</td>\n",
       "      <td>Bachelor's</td>\n",
       "      <td>Self-employed</td>\n",
       "      <td>Single</td>\n",
       "      <td>No</td>\n",
       "      <td>No</td>\n",
       "      <td>Business</td>\n",
       "      <td>Yes</td>\n",
       "      <td>0</td>\n",
       "    </tr>\n",
       "    <tr>\n",
       "      <th>204274</th>\n",
       "      <td>5Y9Z6NW29X</td>\n",
       "      <td>62</td>\n",
       "      <td>34372</td>\n",
       "      <td>59645</td>\n",
       "      <td>524</td>\n",
       "      <td>94</td>\n",
       "      <td>3</td>\n",
       "      <td>9.72</td>\n",
       "      <td>60</td>\n",
       "      <td>0.24</td>\n",
       "      <td>PhD</td>\n",
       "      <td>Full-time</td>\n",
       "      <td>Single</td>\n",
       "      <td>Yes</td>\n",
       "      <td>No</td>\n",
       "      <td>Auto</td>\n",
       "      <td>No</td>\n",
       "      <td>0</td>\n",
       "    </tr>\n",
       "    <tr>\n",
       "      <th>204275</th>\n",
       "      <td>O51974F566</td>\n",
       "      <td>44</td>\n",
       "      <td>146262</td>\n",
       "      <td>198454</td>\n",
       "      <td>489</td>\n",
       "      <td>7</td>\n",
       "      <td>4</td>\n",
       "      <td>4.31</td>\n",
       "      <td>48</td>\n",
       "      <td>0.30</td>\n",
       "      <td>High School</td>\n",
       "      <td>Self-employed</td>\n",
       "      <td>Married</td>\n",
       "      <td>Yes</td>\n",
       "      <td>No</td>\n",
       "      <td>Home</td>\n",
       "      <td>No</td>\n",
       "      <td>0</td>\n",
       "    </tr>\n",
       "    <tr>\n",
       "      <th>204276</th>\n",
       "      <td>SVGAIO53ZK</td>\n",
       "      <td>36</td>\n",
       "      <td>97844</td>\n",
       "      <td>188593</td>\n",
       "      <td>542</td>\n",
       "      <td>2</td>\n",
       "      <td>3</td>\n",
       "      <td>23.14</td>\n",
       "      <td>24</td>\n",
       "      <td>0.83</td>\n",
       "      <td>Bachelor's</td>\n",
       "      <td>Part-time</td>\n",
       "      <td>Divorced</td>\n",
       "      <td>No</td>\n",
       "      <td>No</td>\n",
       "      <td>Home</td>\n",
       "      <td>No</td>\n",
       "      <td>1</td>\n",
       "    </tr>\n",
       "  </tbody>\n",
       "</table>\n",
       "<p>204277 rows × 18 columns</p>\n",
       "</div>"
      ],
      "text/plain": [
       "            LoanID  Age  Income  LoanAmount  CreditScore  MonthsEmployed  \\\n",
       "0       DRIRC89L0T   18  137576      209136          846              26   \n",
       "1       TS0FIUNHNU   47   57194        5970          748              30   \n",
       "2       I0YR284A1V   26   84328       95065          453               7   \n",
       "3       WB1T7NQV8A   53   49795      229582          533             107   \n",
       "4       J6GU9M4G1Z   49  115450       22072          840               0   \n",
       "...            ...  ...     ...         ...          ...             ...   \n",
       "204272  KYS1HKNGGE   40  116623      161673          651              79   \n",
       "204273  5MAOH3AOZO   67   62958      189499          460              77   \n",
       "204274  5Y9Z6NW29X   62   34372       59645          524              94   \n",
       "204275  O51974F566   44  146262      198454          489               7   \n",
       "204276  SVGAIO53ZK   36   97844      188593          542               2   \n",
       "\n",
       "        NumCreditLines  InterestRate  LoanTerm  DTIRatio    Education  \\\n",
       "0                    2         10.47        60      0.81  High School   \n",
       "1                    2         19.72        36      0.73  High School   \n",
       "2                    2         24.25        12      0.45     Master's   \n",
       "3                    3         14.44        60      0.17   Bachelor's   \n",
       "4                    4         24.48        12      0.11   Bachelor's   \n",
       "...                ...           ...       ...       ...          ...   \n",
       "204272               2         23.44        12      0.87   Bachelor's   \n",
       "204273               3          9.29        36      0.11   Bachelor's   \n",
       "204274               3          9.72        60      0.24          PhD   \n",
       "204275               4          4.31        48      0.30  High School   \n",
       "204276               3         23.14        24      0.83   Bachelor's   \n",
       "\n",
       "       EmploymentType MaritalStatus HasMortgage HasDependents LoanPurpose  \\\n",
       "0       Self-employed        Single         Yes            No    Business   \n",
       "1          Unemployed      Divorced          No           Yes   Education   \n",
       "2       Self-employed       Married          No            No       Other   \n",
       "3       Self-employed        Single         Yes            No        Auto   \n",
       "4           Part-time        Single          No           Yes   Education   \n",
       "...               ...           ...         ...           ...         ...   \n",
       "204272      Part-time      Divorced          No            No        Home   \n",
       "204273  Self-employed        Single          No            No    Business   \n",
       "204274      Full-time        Single         Yes            No        Auto   \n",
       "204275  Self-employed       Married         Yes            No        Home   \n",
       "204276      Part-time      Divorced          No            No        Home   \n",
       "\n",
       "       HasCoSigner  Default  \n",
       "0               No        0  \n",
       "1               No        0  \n",
       "2              Yes        0  \n",
       "3              Yes        1  \n",
       "4              Yes        0  \n",
       "...            ...      ...  \n",
       "204272         Yes        0  \n",
       "204273         Yes        0  \n",
       "204274          No        0  \n",
       "204275          No        0  \n",
       "204276          No        1  \n",
       "\n",
       "[204277 rows x 18 columns]"
      ]
     },
     "execution_count": 2,
     "metadata": {},
     "output_type": "execute_result"
    }
   ],
   "source": [
    "train_df"
   ]
  },
  {
   "cell_type": "markdown",
   "metadata": {
    "id": "70ubgnrzxyAf"
   },
   "source": [
    "Dropping duplicates\n"
   ]
  },
  {
   "cell_type": "code",
   "execution_count": 3,
   "metadata": {
    "id": "EweZmKXwxxHA"
   },
   "outputs": [],
   "source": [
    "train_df.drop_duplicates(inplace=True)"
   ]
  },
  {
   "cell_type": "markdown",
   "metadata": {
    "id": "cRnJD5Mw_a65"
   },
   "source": [
    "Checking for existence of NULL values\n"
   ]
  },
  {
   "cell_type": "code",
   "execution_count": 4,
   "metadata": {
    "colab": {
     "base_uri": "https://localhost:8080/",
     "height": 648
    },
    "id": "Hen3CPtLx1gk",
    "outputId": "f5d65807-7d66-4de6-ef4c-83e2a7a29777"
   },
   "outputs": [
    {
     "data": {
      "text/plain": [
       "LoanID            0.0\n",
       "Age               0.0\n",
       "Income            0.0\n",
       "LoanAmount        0.0\n",
       "CreditScore       0.0\n",
       "MonthsEmployed    0.0\n",
       "NumCreditLines    0.0\n",
       "InterestRate      0.0\n",
       "LoanTerm          0.0\n",
       "DTIRatio          0.0\n",
       "Education         0.0\n",
       "EmploymentType    0.0\n",
       "MaritalStatus     0.0\n",
       "HasMortgage       0.0\n",
       "HasDependents     0.0\n",
       "LoanPurpose       0.0\n",
       "HasCoSigner       0.0\n",
       "Default           0.0\n",
       "dtype: float64"
      ]
     },
     "execution_count": 4,
     "metadata": {},
     "output_type": "execute_result"
    }
   ],
   "source": [
    "null_value_percentages=(train_df.isna().sum()/train_df.shape[0])*100\n",
    "null_value_percentages"
   ]
  },
  {
   "cell_type": "markdown",
   "metadata": {
    "id": "DDnJ1GN0_gB8"
   },
   "source": [
    "Checking for Outliers"
   ]
  },
  {
   "cell_type": "code",
   "execution_count": 9,
   "metadata": {
    "colab": {
     "base_uri": "https://localhost:8080/",
     "height": 1000
    },
    "id": "eScW2FxjzVjP",
    "outputId": "caa9e823-5841-43dd-a613-7f35c3c4eccd"
   },
   "outputs": [
    {
     "data": {
      "image/png": "[encoded data removed]",
      "text/plain": [
       "<Figure size 640x480 with 1 Axes>"
      ]
     },
     "metadata": {},
     "output_type": "display_data"
    },
    {
     "data": {
      "text/plain": [
       "<Figure size 1000x1000 with 0 Axes>"
      ]
     },
     "metadata": {},
     "output_type": "display_data"
    },
    {
     "data": {
      "image/png": "[encoded data removed]",
      "text/plain": [
       "<Figure size 640x480 with 1 Axes>"
      ]
     },
     "metadata": {},
     "output_type": "display_data"
    },
    {
     "data": {
      "text/plain": [
       "<Figure size 1000x1000 with 0 Axes>"
      ]
     },
     "metadata": {},
     "output_type": "display_data"
    },
    {
     "data": {
      "image/png": "[encoded data removed]",
      "text/plain": [
       "<Figure size 640x480 with 1 Axes>"
      ]
     },
     "metadata": {},
     "output_type": "display_data"
    },
    {
     "data": {
      "text/plain": [
       "<Figure size 1000x1000 with 0 Axes>"
      ]
     },
     "metadata": {},
     "output_type": "display_data"
    },
    {
     "data": {
      "image/png": "[encoded data removed]",
      "text/plain": [
       "<Figure size 640x480 with 1 Axes>"
      ]
     },
     "metadata": {},
     "output_type": "display_data"
    },
    {
     "data": {
      "text/plain": [
       "<Figure size 1000x1000 with 0 Axes>"
      ]
     },
     "metadata": {},
     "output_type": "display_data"
    },
    {
     "data": {
      "image/png": "[encoded data removed]",
      "text/plain": [
       "<Figure size 640x480 with 1 Axes>"
      ]
     },
     "metadata": {},
     "output_type": "display_data"
    },
    {
     "data": {
      "text/plain": [
       "<Figure size 1000x1000 with 0 Axes>"
      ]
     },
     "metadata": {},
     "output_type": "display_data"
    },
    {
     "data": {
      "image/png": "[encoded data removed]",
      "text/plain": [
       "<Figure size 640x480 with 1 Axes>"
      ]
     },
     "metadata": {},
     "output_type": "display_data"
    },
    {
     "data": {
      "text/plain": [
       "<Figure size 1000x1000 with 0 Axes>"
      ]
     },
     "metadata": {},
     "output_type": "display_data"
    },
    {
     "data": {
      "image/png": "[encoded data removed]",
      "text/plain": [
       "<Figure size 640x480 with 1 Axes>"
      ]
     },
     "metadata": {},
     "output_type": "display_data"
    },
    {
     "data": {
      "text/plain": [
       "<Figure size 1000x1000 with 0 Axes>"
      ]
     },
     "metadata": {},
     "output_type": "display_data"
    },
    {
     "data": {
      "image/png": "[encoded data removed]",
      "text/plain": [
       "<Figure size 640x480 with 1 Axes>"
      ]
     },
     "metadata": {},
     "output_type": "display_data"
    },
    {
     "data": {
      "text/plain": [
       "<Figure size 1000x1000 with 0 Axes>"
      ]
     },
     "metadata": {},
     "output_type": "display_data"
    },
    {
     "data": {
      "image/png": "[encoded data removed]",
      "text/plain": [
       "<Figure size 640x480 with 1 Axes>"
      ]
     },
     "metadata": {},
     "output_type": "display_data"
    },
    {
     "data": {
      "text/plain": [
       "<Figure size 1000x1000 with 0 Axes>"
      ]
     },
     "metadata": {},
     "output_type": "display_data"
    }
   ],
   "source": [
    "sns.boxplot(train_df[\"Age\"])\n",
    "plt.figure(figsize=(10, 10))\n",
    "plt.show()\n",
    "\n",
    "sns.boxplot(train_df[\"Income\"])\n",
    "plt.figure(figsize=(10, 10))\n",
    "plt.show()\n",
    "\n",
    "sns.boxplot(train_df[\"LoanAmount\"])\n",
    "plt.figure(figsize=(10, 10))\n",
    "plt.show()\n",
    "\n",
    "sns.boxplot(train_df[\"CreditScore\"])\n",
    "plt.figure(figsize=(10, 10))\n",
    "plt.show()\n",
    "\n",
    "sns.boxplot(train_df[\"MonthsEmployed\"])\n",
    "plt.figure(figsize=(10, 10))\n",
    "plt.show()\n",
    "\n",
    "sns.boxplot(train_df[\"NumCreditLines\"])\n",
    "plt.figure(figsize=(10, 10))\n",
    "plt.show()\n",
    "\n",
    "sns.boxplot(train_df[\"InterestRate\"])\n",
    "plt.figure(figsize=(10, 10))\n",
    "plt.show()\n",
    "\n",
    "sns.boxplot(train_df[\"LoanTerm\"])\n",
    "plt.figure(figsize=(10, 10))\n",
    "plt.show()\n",
    "\n",
    "sns.boxplot(train_df[\"DTIRatio\"])\n",
    "plt.figure(figsize=(10, 10))\n",
    "plt.show()\n",
    "\n"
   ]
  },
  {
   "cell_type": "markdown",
   "metadata": {
    "id": "PiCbAcsaz9V3"
   },
   "source": [
    "No outliers so we move on  to training.\n",
    "\n",
    "First we will check which of these values needs to be encoded ."
   ]
  },
  {
   "cell_type": "code",
   "execution_count": 5,
   "metadata": {
    "colab": {
     "base_uri": "https://localhost:8080/"
    },
    "id": "xfBu8D1N2oq9",
    "outputId": "3d218011-5cdd-4c84-a2bc-2ca6da079414"
   },
   "outputs": [
    {
     "name": "stdout",
     "output_type": "stream",
     "text": [
      "['High School' \"Master's\" \"Bachelor's\" 'PhD']\n"
     ]
    }
   ],
   "source": [
    "unique_values = train_df['Education'].unique()\n",
    "\n",
    "print(unique_values)"
   ]
  },
  {
   "cell_type": "code",
   "execution_count": 6,
   "metadata": {
    "colab": {
     "base_uri": "https://localhost:8080/"
    },
    "id": "tcoILPvL3cYL",
    "outputId": "b775d697-472c-4cb0-a5d4-d1621e1f0cb2"
   },
   "outputs": [
    {
     "name": "stdout",
     "output_type": "stream",
     "text": [
      "['Self-employed' 'Unemployed' 'Part-time' 'Full-time']\n"
     ]
    }
   ],
   "source": [
    "unique_values = train_df['EmploymentType'].unique()\n",
    "\n",
    "print(unique_values)"
   ]
  },
  {
   "cell_type": "code",
   "execution_count": 7,
   "metadata": {
    "colab": {
     "base_uri": "https://localhost:8080/"
    },
    "id": "kN6k8ZE73kOP",
    "outputId": "375670bf-6531-4ebf-a0ed-1d7958aec3c7"
   },
   "outputs": [
    {
     "name": "stdout",
     "output_type": "stream",
     "text": [
      "['Single' 'Divorced' 'Married']\n"
     ]
    }
   ],
   "source": [
    "unique_values = train_df['MaritalStatus'].unique()\n",
    "\n",
    "print(unique_values)"
   ]
  },
  {
   "cell_type": "code",
   "execution_count": 8,
   "metadata": {
    "colab": {
     "base_uri": "https://localhost:8080/"
    },
    "id": "Utxfl5ga3lDU",
    "outputId": "ecc99df4-d54a-4aa7-81db-6c7a0cd0596c"
   },
   "outputs": [
    {
     "name": "stdout",
     "output_type": "stream",
     "text": [
      "['Business' 'Education' 'Other' 'Auto' 'Home']\n"
     ]
    }
   ],
   "source": [
    "unique_values = train_df['LoanPurpose'].unique()\n",
    "\n",
    "print(unique_values)"
   ]
  },
  {
   "cell_type": "code",
   "execution_count": 9,
   "metadata": {
    "colab": {
     "base_uri": "https://localhost:8080/"
    },
    "id": "mBLyr_U13zYk",
    "outputId": "cbc7603a-ccf5-47d5-cf4e-b99fd1c4ba16"
   },
   "outputs": [
    {
     "name": "stdout",
     "output_type": "stream",
     "text": [
      "['Yes' 'No']\n"
     ]
    }
   ],
   "source": [
    "unique_values = train_df['HasMortgage'].unique()\n",
    "\n",
    "print(unique_values)"
   ]
  },
  {
   "cell_type": "code",
   "execution_count": 10,
   "metadata": {
    "colab": {
     "base_uri": "https://localhost:8080/"
    },
    "id": "wo2p0VqY30i8",
    "outputId": "a9196b73-0924-4e20-c5c6-71e921c43f60"
   },
   "outputs": [
    {
     "name": "stdout",
     "output_type": "stream",
     "text": [
      "['No' 'Yes']\n"
     ]
    }
   ],
   "source": [
    "unique_values = train_df['HasDependents'].unique()\n",
    "\n",
    "print(unique_values)"
   ]
  },
  {
   "cell_type": "code",
   "execution_count": 11,
   "metadata": {
    "colab": {
     "base_uri": "https://localhost:8080/"
    },
    "id": "HMIqG1rz31Qn",
    "outputId": "0096fb27-1917-4a9c-e415-7c0d8ddfc1fc"
   },
   "outputs": [
    {
     "name": "stdout",
     "output_type": "stream",
     "text": [
      "['No' 'Yes']\n"
     ]
    }
   ],
   "source": [
    "unique_values = train_df['HasCoSigner'].unique()\n",
    "\n",
    "print(unique_values)"
   ]
  },
  {
   "cell_type": "markdown",
   "metadata": {
    "id": "eIgqWcDzaLEM"
   },
   "source": [
    "Mapping Yes And No to binary output 1 and 0 respectively"
   ]
  },
  {
   "cell_type": "code",
   "execution_count": 12,
   "metadata": {
    "id": "rz-P_wt14D_n"
   },
   "outputs": [],
   "source": [
    "train_df['HasMortgage'] = train_df['HasMortgage'].map({'Yes': 1, 'No': 0})\n",
    "test_df['HasMortgage'] = test_df['HasMortgage'].map({'Yes': 1, 'No': 0})"
   ]
  },
  {
   "cell_type": "code",
   "execution_count": 13,
   "metadata": {
    "id": "ZWK5bV0f4Xn7"
   },
   "outputs": [],
   "source": [
    "train_df['HasDependents'] = train_df['HasDependents'].map({'Yes': 1, 'No': 0})\n",
    "test_df['HasDependents'] = test_df['HasDependents'].map({'Yes': 1, 'No': 0})"
   ]
  },
  {
   "cell_type": "code",
   "execution_count": 14,
   "metadata": {
    "id": "dJt4uNNv4Zy8"
   },
   "outputs": [],
   "source": [
    "train_df['HasCoSigner'] = train_df['HasCoSigner'].map({'Yes': 1, 'No': 0})\n",
    "test_df['HasCoSigner'] = test_df['HasCoSigner'].map({'Yes': 1, 'No': 0})"
   ]
  },
  {
   "cell_type": "markdown",
   "metadata": {
    "id": "fPwTRfDYaVht"
   },
   "source": [
    "Doing One hot encoding of the below given columns"
   ]
  },
  {
   "cell_type": "code",
   "execution_count": 15,
   "metadata": {
    "id": "Y0JTLpxd4mgS"
   },
   "outputs": [],
   "source": [
    "train_df = pd.get_dummies(train_df, columns=['Education', 'EmploymentType', 'MaritalStatus', 'LoanPurpose'])\n",
    "test_df = pd.get_dummies(test_df, columns=['Education', 'EmploymentType', 'MaritalStatus', 'LoanPurpose'])"
   ]
  },
  {
   "cell_type": "code",
   "execution_count": 16,
   "metadata": {
    "id": "A5ip5w4U0CTY"
   },
   "outputs": [],
   "source": [
    "from sklearn.preprocessing import StandardScaler,PolynomialFeatures\n",
    "\n",
    "from sklearn.linear_model import LinearRegression,Lasso,Ridge\n",
    "from sklearn.metrics import mean_squared_error\n",
    "from sklearn.metrics import r2_score\n",
    "from sklearn.model_selection import train_test_split\n",
    "\n",
    "from sklearn.model_selection import GridSearchCV\n",
    "from sklearn.tree import DecisionTreeClassifier\n",
    "from sklearn.ensemble import RandomForestClassifier\n",
    "from xgboost import XGBClassifier\n"
   ]
  },
  {
   "cell_type": "code",
   "execution_count": 22,
   "metadata": {
    "colab": {
     "base_uri": "https://localhost:8080/"
    },
    "id": "K0cDGWkl0aeG",
    "outputId": "4fb7f68f-602a-4d0e-8afc-766c2189672c"
   },
   "outputs": [
    {
     "data": {
      "text/plain": [
       "Index(['LoanID', 'Age', 'Income', 'LoanAmount', 'CreditScore',\n",
       "       'MonthsEmployed', 'NumCreditLines', 'InterestRate', 'LoanTerm',\n",
       "       'DTIRatio', 'HasMortgage', 'HasDependents', 'HasCoSigner', 'Default',\n",
       "       'Education_Bachelor's', 'Education_High School', 'Education_Master's',\n",
       "       'Education_PhD', 'EmploymentType_Full-time', 'EmploymentType_Part-time',\n",
       "       'EmploymentType_Self-employed', 'EmploymentType_Unemployed',\n",
       "       'MaritalStatus_Divorced', 'MaritalStatus_Married',\n",
       "       'MaritalStatus_Single', 'LoanPurpose_Auto', 'LoanPurpose_Business',\n",
       "       'LoanPurpose_Education', 'LoanPurpose_Home', 'LoanPurpose_Other'],\n",
       "      dtype='object')"
      ]
     },
     "execution_count": 22,
     "metadata": {},
     "output_type": "execute_result"
    }
   ],
   "source": [
    "train_df.keys()"
   ]
  },
  {
   "cell_type": "markdown",
   "metadata": {
    "id": "092MWaOIalz8"
   },
   "source": [
    "Choosing the columns as inputs ,in this case we are cosnidering all columns as inputs."
   ]
  },
  {
   "cell_type": "code",
   "execution_count": 17,
   "metadata": {
    "id": "M28IinYw2Rwb"
   },
   "outputs": [],
   "source": [
    "dataset_x=train_df[[  'Age', 'Income', 'LoanAmount', 'CreditScore',\n",
    "       'MonthsEmployed', 'NumCreditLines', 'InterestRate', 'LoanTerm',\n",
    "       'DTIRatio', 'HasMortgage', 'HasDependents', 'HasCoSigner',\n",
    "       \"Education_Bachelor's\", 'Education_High School', \"Education_Master's\",\n",
    "       'Education_PhD', 'EmploymentType_Full-time', 'EmploymentType_Part-time',\n",
    "       'EmploymentType_Self-employed', 'EmploymentType_Unemployed',\n",
    "       'MaritalStatus_Divorced', 'MaritalStatus_Married',\n",
    "       'MaritalStatus_Single', 'LoanPurpose_Auto', 'LoanPurpose_Business',\n",
    "       'LoanPurpose_Education', 'LoanPurpose_Home', 'LoanPurpose_Other']]\n",
    "t_dataset_x=test_df[[ 'Age', 'Income', 'LoanAmount', 'CreditScore',\n",
    "       'MonthsEmployed', 'NumCreditLines', 'InterestRate', 'LoanTerm',\n",
    "       'DTIRatio', 'HasMortgage', 'HasDependents', 'HasCoSigner',\n",
    "       \"Education_Bachelor's\", 'Education_High School', \"Education_Master's\",\n",
    "       'Education_PhD', 'EmploymentType_Full-time', 'EmploymentType_Part-time',\n",
    "       'EmploymentType_Self-employed', 'EmploymentType_Unemployed',\n",
    "       'MaritalStatus_Divorced', 'MaritalStatus_Married',\n",
    "       'MaritalStatus_Single', 'LoanPurpose_Auto', 'LoanPurpose_Business',\n",
    "       'LoanPurpose_Education', 'LoanPurpose_Home', 'LoanPurpose_Other']]\n",
    "dataset_y=train_df['Default']"
   ]
  },
  {
   "cell_type": "code",
   "execution_count": 18,
   "metadata": {
    "id": "-2HEvbkm6kup"
   },
   "outputs": [],
   "source": [
    "x_train=dataset_x\n",
    "y_train=dataset_y\n",
    "x_test=t_dataset_x"
   ]
  },
  {
   "cell_type": "markdown",
   "metadata": {
    "id": "KjvBuqdfayd7"
   },
   "source": [
    "Making a dictionary of parameters over which we wish to do grid search.\n",
    "\n",
    "Now we apply grid search to find best parameters and update those into best models."
   ]
  },
  {
   "cell_type": "code",
   "execution_count": 21,
   "metadata": {},
   "outputs": [],
   "source": [
    "from sklearn.model_selection import GridSearchCV\n",
    "from sklearn.tree import DecisionTreeClassifier\n",
    "from sklearn.ensemble import RandomForestClassifier\n",
    "from xgboost import XGBClassifier\n",
    "from sklearn.linear_model import LogisticRegression\n",
    "from sklearn.ensemble import AdaBoostClassifier\n",
    "from sklearn.neighbors import KNeighborsClassifier\n",
    "from sklearn.naive_bayes import GaussianNB"
   ]
  },
  {
   "cell_type": "code",
   "execution_count": 24,
   "metadata": {},
   "outputs": [],
   "source": [
    "# Dictionary to store the best models and their parameters\n",
    "best_models = {}"
   ]
  },
  {
   "cell_type": "code",
   "execution_count": null,
   "metadata": {
    "colab": {
     "base_uri": "https://localhost:8080/",
     "height": 356
    },
    "id": "DhL3H-uj7B8e",
    "outputId": "9544b7cf-43df-4625-f56b-ca6c60788158"
   },
   "outputs": [
    {
     "ename": "KeyboardInterrupt",
     "evalue": "",
     "output_type": "error",
     "traceback": [
      "\u001b[0;31m---------------------------------------------------------------------------\u001b[0m",
      "\u001b[0;31mKeyboardInterrupt\u001b[0m                         Traceback (most recent call last)",
      "\u001b[0;32m<ipython-input-15-24e47790400d>\u001b[0m in \u001b[0;36m<cell line: 40>\u001b[0;34m()\u001b[0m\n\u001b[1;32m     38\u001b[0m \u001b[0mdt\u001b[0m \u001b[0;34m=\u001b[0m \u001b[0mDecisionTreeClassifier\u001b[0m\u001b[0;34m(\u001b[0m\u001b[0;34m)\u001b[0m\u001b[0;34m\u001b[0m\u001b[0;34m\u001b[0m\u001b[0m\n\u001b[1;32m     39\u001b[0m \u001b[0mgrid_dt\u001b[0m \u001b[0;34m=\u001b[0m \u001b[0mGridSearchCV\u001b[0m\u001b[0;34m(\u001b[0m\u001b[0mdt\u001b[0m\u001b[0;34m,\u001b[0m \u001b[0mparam_grids\u001b[0m\u001b[0;34m[\u001b[0m\u001b[0;34m'decision_tree'\u001b[0m\u001b[0;34m]\u001b[0m\u001b[0;34m,\u001b[0m \u001b[0mcv\u001b[0m\u001b[0;34m=\u001b[0m\u001b[0;36m5\u001b[0m\u001b[0;34m)\u001b[0m\u001b[0;34m\u001b[0m\u001b[0;34m\u001b[0m\u001b[0m\n\u001b[0;32m---> 40\u001b[0;31m \u001b[0mgrid_dt\u001b[0m\u001b[0;34m.\u001b[0m\u001b[0mfit\u001b[0m\u001b[0;34m(\u001b[0m\u001b[0mx_train\u001b[0m\u001b[0;34m,\u001b[0m \u001b[0my_train\u001b[0m\u001b[0;34m)\u001b[0m\u001b[0;34m\u001b[0m\u001b[0;34m\u001b[0m\u001b[0m\n\u001b[0m\u001b[1;32m     41\u001b[0m \u001b[0mbest_models\u001b[0m\u001b[0;34m[\u001b[0m\u001b[0;34m'decision_tree'\u001b[0m\u001b[0;34m]\u001b[0m \u001b[0;34m=\u001b[0m \u001b[0mgrid_dt\u001b[0m\u001b[0;34m.\u001b[0m\u001b[0mbest_estimator_\u001b[0m\u001b[0;34m\u001b[0m\u001b[0;34m\u001b[0m\u001b[0m\n\u001b[1;32m     42\u001b[0m \u001b[0;34m\u001b[0m\u001b[0m\n",
      "\u001b[0;32m/usr/local/lib/python3.10/dist-packages/sklearn/base.py\u001b[0m in \u001b[0;36mwrapper\u001b[0;34m(estimator, *args, **kwargs)\u001b[0m\n\u001b[1;32m   1471\u001b[0m                 )\n\u001b[1;32m   1472\u001b[0m             ):\n\u001b[0;32m-> 1473\u001b[0;31m                 \u001b[0;32mreturn\u001b[0m \u001b[0mfit_method\u001b[0m\u001b[0;34m(\u001b[0m\u001b[0mestimator\u001b[0m\u001b[0;34m,\u001b[0m \u001b[0;34m*\u001b[0m\u001b[0margs\u001b[0m\u001b[0;34m,\u001b[0m \u001b[0;34m**\u001b[0m\u001b[0mkwargs\u001b[0m\u001b[0;34m)\u001b[0m\u001b[0;34m\u001b[0m\u001b[0;34m\u001b[0m\u001b[0m\n\u001b[0m\u001b[1;32m   1474\u001b[0m \u001b[0;34m\u001b[0m\u001b[0m\n\u001b[1;32m   1475\u001b[0m         \u001b[0;32mreturn\u001b[0m \u001b[0mwrapper\u001b[0m\u001b[0;34m\u001b[0m\u001b[0;34m\u001b[0m\u001b[0m\n",
      "\u001b[0;32m/usr/local/lib/python3.10/dist-packages/sklearn/model_selection/_search.py\u001b[0m in \u001b[0;36mfit\u001b[0;34m(self, X, y, **params)\u001b[0m\n\u001b[1;32m   1017\u001b[0m                 \u001b[0;32mreturn\u001b[0m \u001b[0mresults\u001b[0m\u001b[0;34m\u001b[0m\u001b[0;34m\u001b[0m\u001b[0m\n\u001b[1;32m   1018\u001b[0m \u001b[0;34m\u001b[0m\u001b[0m\n\u001b[0;32m-> 1019\u001b[0;31m             \u001b[0mself\u001b[0m\u001b[0;34m.\u001b[0m\u001b[0m_run_search\u001b[0m\u001b[0;34m(\u001b[0m\u001b[0mevaluate_candidates\u001b[0m\u001b[0;34m)\u001b[0m\u001b[0;34m\u001b[0m\u001b[0;34m\u001b[0m\u001b[0m\n\u001b[0m\u001b[1;32m   1020\u001b[0m \u001b[0;34m\u001b[0m\u001b[0m\n\u001b[1;32m   1021\u001b[0m             \u001b[0;31m# multimetric is determined here because in the case of a callable\u001b[0m\u001b[0;34m\u001b[0m\u001b[0;34m\u001b[0m\u001b[0m\n",
      "\u001b[0;32m/usr/local/lib/python3.10/dist-packages/sklearn/model_selection/_search.py\u001b[0m in \u001b[0;36m_run_search\u001b[0;34m(self, evaluate_candidates)\u001b[0m\n\u001b[1;32m   1571\u001b[0m     \u001b[0;32mdef\u001b[0m \u001b[0m_run_search\u001b[0m\u001b[0;34m(\u001b[0m\u001b[0mself\u001b[0m\u001b[0;34m,\u001b[0m \u001b[0mevaluate_candidates\u001b[0m\u001b[0;34m)\u001b[0m\u001b[0;34m:\u001b[0m\u001b[0;34m\u001b[0m\u001b[0;34m\u001b[0m\u001b[0m\n\u001b[1;32m   1572\u001b[0m         \u001b[0;34m\"\"\"Search all candidates in param_grid\"\"\"\u001b[0m\u001b[0;34m\u001b[0m\u001b[0;34m\u001b[0m\u001b[0m\n\u001b[0;32m-> 1573\u001b[0;31m         \u001b[0mevaluate_candidates\u001b[0m\u001b[0;34m(\u001b[0m\u001b[0mParameterGrid\u001b[0m\u001b[0;34m(\u001b[0m\u001b[0mself\u001b[0m\u001b[0;34m.\u001b[0m\u001b[0mparam_grid\u001b[0m\u001b[0;34m)\u001b[0m\u001b[0;34m)\u001b[0m\u001b[0;34m\u001b[0m\u001b[0;34m\u001b[0m\u001b[0m\n\u001b[0m\u001b[1;32m   1574\u001b[0m \u001b[0;34m\u001b[0m\u001b[0m\n\u001b[1;32m   1575\u001b[0m \u001b[0;34m\u001b[0m\u001b[0m\n",
      "\u001b[0;32m/usr/local/lib/python3.10/dist-packages/sklearn/model_selection/_search.py\u001b[0m in \u001b[0;36mevaluate_candidates\u001b[0;34m(candidate_params, cv, more_results)\u001b[0m\n\u001b[1;32m    963\u001b[0m                     )\n\u001b[1;32m    964\u001b[0m \u001b[0;34m\u001b[0m\u001b[0m\n\u001b[0;32m--> 965\u001b[0;31m                 out = parallel(\n\u001b[0m\u001b[1;32m    966\u001b[0m                     delayed(_fit_and_score)(\n\u001b[1;32m    967\u001b[0m                         \u001b[0mclone\u001b[0m\u001b[0;34m(\u001b[0m\u001b[0mbase_estimator\u001b[0m\u001b[0;34m)\u001b[0m\u001b[0;34m,\u001b[0m\u001b[0;34m\u001b[0m\u001b[0;34m\u001b[0m\u001b[0m\n",
      "\u001b[0;32m/usr/local/lib/python3.10/dist-packages/sklearn/utils/parallel.py\u001b[0m in \u001b[0;36m__call__\u001b[0;34m(self, iterable)\u001b[0m\n\u001b[1;32m     72\u001b[0m             \u001b[0;32mfor\u001b[0m \u001b[0mdelayed_func\u001b[0m\u001b[0;34m,\u001b[0m \u001b[0margs\u001b[0m\u001b[0;34m,\u001b[0m \u001b[0mkwargs\u001b[0m \u001b[0;32min\u001b[0m \u001b[0miterable\u001b[0m\u001b[0;34m\u001b[0m\u001b[0;34m\u001b[0m\u001b[0m\n\u001b[1;32m     73\u001b[0m         )\n\u001b[0;32m---> 74\u001b[0;31m         \u001b[0;32mreturn\u001b[0m \u001b[0msuper\u001b[0m\u001b[0;34m(\u001b[0m\u001b[0;34m)\u001b[0m\u001b[0;34m.\u001b[0m\u001b[0m__call__\u001b[0m\u001b[0;34m(\u001b[0m\u001b[0miterable_with_config\u001b[0m\u001b[0;34m)\u001b[0m\u001b[0;34m\u001b[0m\u001b[0;34m\u001b[0m\u001b[0m\n\u001b[0m\u001b[1;32m     75\u001b[0m \u001b[0;34m\u001b[0m\u001b[0m\n\u001b[1;32m     76\u001b[0m \u001b[0;34m\u001b[0m\u001b[0m\n",
      "\u001b[0;32m/usr/local/lib/python3.10/dist-packages/joblib/parallel.py\u001b[0m in \u001b[0;36m__call__\u001b[0;34m(self, iterable)\u001b[0m\n\u001b[1;32m   1916\u001b[0m             \u001b[0moutput\u001b[0m \u001b[0;34m=\u001b[0m \u001b[0mself\u001b[0m\u001b[0;34m.\u001b[0m\u001b[0m_get_sequential_output\u001b[0m\u001b[0;34m(\u001b[0m\u001b[0miterable\u001b[0m\u001b[0;34m)\u001b[0m\u001b[0;34m\u001b[0m\u001b[0;34m\u001b[0m\u001b[0m\n\u001b[1;32m   1917\u001b[0m             \u001b[0mnext\u001b[0m\u001b[0;34m(\u001b[0m\u001b[0moutput\u001b[0m\u001b[0;34m)\u001b[0m\u001b[0;34m\u001b[0m\u001b[0;34m\u001b[0m\u001b[0m\n\u001b[0;32m-> 1918\u001b[0;31m             \u001b[0;32mreturn\u001b[0m \u001b[0moutput\u001b[0m \u001b[0;32mif\u001b[0m \u001b[0mself\u001b[0m\u001b[0;34m.\u001b[0m\u001b[0mreturn_generator\u001b[0m \u001b[0;32melse\u001b[0m \u001b[0mlist\u001b[0m\u001b[0;34m(\u001b[0m\u001b[0moutput\u001b[0m\u001b[0;34m)\u001b[0m\u001b[0;34m\u001b[0m\u001b[0;34m\u001b[0m\u001b[0m\n\u001b[0m\u001b[1;32m   1919\u001b[0m \u001b[0;34m\u001b[0m\u001b[0m\n\u001b[1;32m   1920\u001b[0m         \u001b[0;31m# Let's create an ID that uniquely identifies the current call. If the\u001b[0m\u001b[0;34m\u001b[0m\u001b[0;34m\u001b[0m\u001b[0m\n",
      "\u001b[0;32m/usr/local/lib/python3.10/dist-packages/joblib/parallel.py\u001b[0m in \u001b[0;36m_get_sequential_output\u001b[0;34m(self, iterable)\u001b[0m\n\u001b[1;32m   1845\u001b[0m                 \u001b[0mself\u001b[0m\u001b[0;34m.\u001b[0m\u001b[0mn_dispatched_batches\u001b[0m \u001b[0;34m+=\u001b[0m \u001b[0;36m1\u001b[0m\u001b[0;34m\u001b[0m\u001b[0;34m\u001b[0m\u001b[0m\n\u001b[1;32m   1846\u001b[0m                 \u001b[0mself\u001b[0m\u001b[0;34m.\u001b[0m\u001b[0mn_dispatched_tasks\u001b[0m \u001b[0;34m+=\u001b[0m \u001b[0;36m1\u001b[0m\u001b[0;34m\u001b[0m\u001b[0;34m\u001b[0m\u001b[0m\n\u001b[0;32m-> 1847\u001b[0;31m                 \u001b[0mres\u001b[0m \u001b[0;34m=\u001b[0m \u001b[0mfunc\u001b[0m\u001b[0;34m(\u001b[0m\u001b[0;34m*\u001b[0m\u001b[0margs\u001b[0m\u001b[0;34m,\u001b[0m \u001b[0;34m**\u001b[0m\u001b[0mkwargs\u001b[0m\u001b[0;34m)\u001b[0m\u001b[0;34m\u001b[0m\u001b[0;34m\u001b[0m\u001b[0m\n\u001b[0m\u001b[1;32m   1848\u001b[0m                 \u001b[0mself\u001b[0m\u001b[0;34m.\u001b[0m\u001b[0mn_completed_tasks\u001b[0m \u001b[0;34m+=\u001b[0m \u001b[0;36m1\u001b[0m\u001b[0;34m\u001b[0m\u001b[0;34m\u001b[0m\u001b[0m\n\u001b[1;32m   1849\u001b[0m                 \u001b[0mself\u001b[0m\u001b[0;34m.\u001b[0m\u001b[0mprint_progress\u001b[0m\u001b[0;34m(\u001b[0m\u001b[0;34m)\u001b[0m\u001b[0;34m\u001b[0m\u001b[0;34m\u001b[0m\u001b[0m\n",
      "\u001b[0;32m/usr/local/lib/python3.10/dist-packages/sklearn/utils/parallel.py\u001b[0m in \u001b[0;36m__call__\u001b[0;34m(self, *args, **kwargs)\u001b[0m\n\u001b[1;32m    134\u001b[0m             \u001b[0mconfig\u001b[0m \u001b[0;34m=\u001b[0m \u001b[0;34m{\u001b[0m\u001b[0;34m}\u001b[0m\u001b[0;34m\u001b[0m\u001b[0;34m\u001b[0m\u001b[0m\n\u001b[1;32m    135\u001b[0m         \u001b[0;32mwith\u001b[0m \u001b[0mconfig_context\u001b[0m\u001b[0;34m(\u001b[0m\u001b[0;34m**\u001b[0m\u001b[0mconfig\u001b[0m\u001b[0;34m)\u001b[0m\u001b[0;34m:\u001b[0m\u001b[0;34m\u001b[0m\u001b[0;34m\u001b[0m\u001b[0m\n\u001b[0;32m--> 136\u001b[0;31m             \u001b[0;32mreturn\u001b[0m \u001b[0mself\u001b[0m\u001b[0;34m.\u001b[0m\u001b[0mfunction\u001b[0m\u001b[0;34m(\u001b[0m\u001b[0;34m*\u001b[0m\u001b[0margs\u001b[0m\u001b[0;34m,\u001b[0m \u001b[0;34m**\u001b[0m\u001b[0mkwargs\u001b[0m\u001b[0;34m)\u001b[0m\u001b[0;34m\u001b[0m\u001b[0;34m\u001b[0m\u001b[0m\n\u001b[0m\u001b[1;32m    137\u001b[0m \u001b[0;34m\u001b[0m\u001b[0m\n\u001b[1;32m    138\u001b[0m \u001b[0;34m\u001b[0m\u001b[0m\n",
      "\u001b[0;32m/usr/local/lib/python3.10/dist-packages/sklearn/model_selection/_validation.py\u001b[0m in \u001b[0;36m_fit_and_score\u001b[0;34m(estimator, X, y, scorer, train, test, verbose, parameters, fit_params, score_params, return_train_score, return_parameters, return_n_test_samples, return_times, return_estimator, split_progress, candidate_progress, error_score)\u001b[0m\n\u001b[1;32m    886\u001b[0m             \u001b[0mestimator\u001b[0m\u001b[0;34m.\u001b[0m\u001b[0mfit\u001b[0m\u001b[0;34m(\u001b[0m\u001b[0mX_train\u001b[0m\u001b[0;34m,\u001b[0m \u001b[0;34m**\u001b[0m\u001b[0mfit_params\u001b[0m\u001b[0;34m)\u001b[0m\u001b[0;34m\u001b[0m\u001b[0;34m\u001b[0m\u001b[0m\n\u001b[1;32m    887\u001b[0m         \u001b[0;32melse\u001b[0m\u001b[0;34m:\u001b[0m\u001b[0;34m\u001b[0m\u001b[0;34m\u001b[0m\u001b[0m\n\u001b[0;32m--> 888\u001b[0;31m             \u001b[0mestimator\u001b[0m\u001b[0;34m.\u001b[0m\u001b[0mfit\u001b[0m\u001b[0;34m(\u001b[0m\u001b[0mX_train\u001b[0m\u001b[0;34m,\u001b[0m \u001b[0my_train\u001b[0m\u001b[0;34m,\u001b[0m \u001b[0;34m**\u001b[0m\u001b[0mfit_params\u001b[0m\u001b[0;34m)\u001b[0m\u001b[0;34m\u001b[0m\u001b[0;34m\u001b[0m\u001b[0m\n\u001b[0m\u001b[1;32m    889\u001b[0m \u001b[0;34m\u001b[0m\u001b[0m\n\u001b[1;32m    890\u001b[0m     \u001b[0;32mexcept\u001b[0m \u001b[0mException\u001b[0m\u001b[0;34m:\u001b[0m\u001b[0;34m\u001b[0m\u001b[0;34m\u001b[0m\u001b[0m\n",
      "\u001b[0;32m/usr/local/lib/python3.10/dist-packages/sklearn/base.py\u001b[0m in \u001b[0;36mwrapper\u001b[0;34m(estimator, *args, **kwargs)\u001b[0m\n\u001b[1;32m   1471\u001b[0m                 )\n\u001b[1;32m   1472\u001b[0m             ):\n\u001b[0;32m-> 1473\u001b[0;31m                 \u001b[0;32mreturn\u001b[0m \u001b[0mfit_method\u001b[0m\u001b[0;34m(\u001b[0m\u001b[0mestimator\u001b[0m\u001b[0;34m,\u001b[0m \u001b[0;34m*\u001b[0m\u001b[0margs\u001b[0m\u001b[0;34m,\u001b[0m \u001b[0;34m**\u001b[0m\u001b[0mkwargs\u001b[0m\u001b[0;34m)\u001b[0m\u001b[0;34m\u001b[0m\u001b[0;34m\u001b[0m\u001b[0m\n\u001b[0m\u001b[1;32m   1474\u001b[0m \u001b[0;34m\u001b[0m\u001b[0m\n\u001b[1;32m   1475\u001b[0m         \u001b[0;32mreturn\u001b[0m \u001b[0mwrapper\u001b[0m\u001b[0;34m\u001b[0m\u001b[0;34m\u001b[0m\u001b[0m\n",
      "\u001b[0;32m/usr/local/lib/python3.10/dist-packages/sklearn/tree/_classes.py\u001b[0m in \u001b[0;36mfit\u001b[0;34m(self, X, y, sample_weight, check_input)\u001b[0m\n\u001b[1;32m   1007\u001b[0m         \"\"\"\n\u001b[1;32m   1008\u001b[0m \u001b[0;34m\u001b[0m\u001b[0m\n\u001b[0;32m-> 1009\u001b[0;31m         super()._fit(\n\u001b[0m\u001b[1;32m   1010\u001b[0m             \u001b[0mX\u001b[0m\u001b[0;34m,\u001b[0m\u001b[0;34m\u001b[0m\u001b[0;34m\u001b[0m\u001b[0m\n\u001b[1;32m   1011\u001b[0m             \u001b[0my\u001b[0m\u001b[0;34m,\u001b[0m\u001b[0;34m\u001b[0m\u001b[0;34m\u001b[0m\u001b[0m\n",
      "\u001b[0;32m/usr/local/lib/python3.10/dist-packages/sklearn/tree/_classes.py\u001b[0m in \u001b[0;36m_fit\u001b[0;34m(self, X, y, sample_weight, check_input, missing_values_in_feature_mask)\u001b[0m\n\u001b[1;32m    470\u001b[0m             )\n\u001b[1;32m    471\u001b[0m \u001b[0;34m\u001b[0m\u001b[0m\n\u001b[0;32m--> 472\u001b[0;31m         \u001b[0mbuilder\u001b[0m\u001b[0;34m.\u001b[0m\u001b[0mbuild\u001b[0m\u001b[0;34m(\u001b[0m\u001b[0mself\u001b[0m\u001b[0;34m.\u001b[0m\u001b[0mtree_\u001b[0m\u001b[0;34m,\u001b[0m \u001b[0mX\u001b[0m\u001b[0;34m,\u001b[0m \u001b[0my\u001b[0m\u001b[0;34m,\u001b[0m \u001b[0msample_weight\u001b[0m\u001b[0;34m,\u001b[0m \u001b[0mmissing_values_in_feature_mask\u001b[0m\u001b[0;34m)\u001b[0m\u001b[0;34m\u001b[0m\u001b[0;34m\u001b[0m\u001b[0m\n\u001b[0m\u001b[1;32m    473\u001b[0m \u001b[0;34m\u001b[0m\u001b[0m\n\u001b[1;32m    474\u001b[0m         \u001b[0;32mif\u001b[0m \u001b[0mself\u001b[0m\u001b[0;34m.\u001b[0m\u001b[0mn_outputs_\u001b[0m \u001b[0;34m==\u001b[0m \u001b[0;36m1\u001b[0m \u001b[0;32mand\u001b[0m \u001b[0mis_classifier\u001b[0m\u001b[0;34m(\u001b[0m\u001b[0mself\u001b[0m\u001b[0;34m)\u001b[0m\u001b[0;34m:\u001b[0m\u001b[0;34m\u001b[0m\u001b[0;34m\u001b[0m\u001b[0m\n",
      "\u001b[0;31mKeyboardInterrupt\u001b[0m: "
     ]
    }
   ],
   "source": [
    "# Define parameter grids for each model\n",
    "param_grids = {\n",
    "    'decision_tree': {\n",
    "        'max_depth': [None, 10, 20, 30],\n",
    "        'min_samples_split': [2, 5, 10]\n",
    "    },\n",
    "    'xgboost': {\n",
    "        'n_estimators': [50, 100, 150],\n",
    "        'max_depth': [3, 5, 7],\n",
    "        'learning_rate': [0.01, 0.1, 0.2]\n",
    "    },\n",
    "    'random_forest': {\n",
    "        'n_estimators': [50, 100, 150],\n",
    "        'max_depth': [None, 10, 20],\n",
    "        'min_samples_split': [2, 5, 10]\n",
    "    },\n",
    "    'lasso': {\n",
    "        'C': [0.1, 1.0, 10.0],\n",
    "        'penalty': ['l1'],\n",
    "        'solver': ['liblinear']  # Required for L1 regularization in logistic regression\n",
    "    },\n",
    "    'ridge': {\n",
    "        'C': [0.1, 1.0, 10.0],\n",
    "        'penalty': ['l2']\n",
    "    }\n",
    "}\n",
    "\n",
    "# Train and tune Decision Tree Classifier\n",
    "dt = DecisionTreeClassifier()\n",
    "grid_dt = GridSearchCV(dt, param_grids['decision_tree'], cv=5)\n",
    "grid_dt.fit(x_train, y_train)\n",
    "best_models['decision_tree'] = grid_dt.best_estimator_\n",
    "\n",
    "# Train and tune XGBoost Classifier\n",
    "xgb = XGBClassifier(objective='binary:logistic' if len(y_train.unique()) == 2 else 'multi:softmax')\n",
    "grid_xgb = GridSearchCV(xgb, param_grids['xgboost'], cv=5)\n",
    "grid_xgb.fit(x_train, y_train)\n",
    "best_models['xgboost'] = grid_xgb.best_estimator_\n",
    "\n",
    "# Train and tune Random Forest Classifier\n",
    "rf = RandomForestClassifier()\n",
    "grid_rf = GridSearchCV(rf, param_grids['random_forest'], cv=5)\n",
    "grid_rf.fit(x_train, y_train)\n",
    "best_models['random_forest'] = grid_rf.best_estimator_\n",
    "\n",
    "# Train and tune Logistic Regression with L1 penalty (Lasso)\n",
    "lasso = LogisticRegression()\n",
    "grid_lasso = GridSearchCV(lasso, param_grids['lasso'], cv=5)\n",
    "grid_lasso.fit(x_train, y_train)\n",
    "best_models['lasso'] = grid_lasso.best_estimator_\n",
    "\n",
    "# Train and tune Logistic Regression with L2 penalty (Ridge)\n",
    "ridge = LogisticRegression()\n",
    "grid_ridge = GridSearchCV(ridge, param_grids['ridge'], cv=5)\n",
    "grid_ridge.fit(x_train, y_train)\n",
    "best_models['ridge'] = grid_ridge.best_estimator_\n",
    "\n",
    "# For standard Logistic Regression without regularization, fit the model directly\n",
    "logistic = LogisticRegression()\n",
    "logistic.fit(x_train, y_train)\n",
    "best_models['logistic'] = logistic\n",
    "\n",
    "# Train AdaBoost Classifier\n",
    "ada = AdaBoostClassifier(n_estimators=50, random_state=42)\n",
    "ada.fit(x_train, y_train)\n",
    "ada_predictions = ada.predict(x_test)\n",
    "best_models['AdaBoost'] = ada\n",
    "\n",
    "# Train K-Nearest Neighbors Classifier\n",
    "knn = KNeighborsClassifier(n_neighbors=5)  # You can tune n_neighbors based on your data\n",
    "knn.fit(x_train, y_train)\n",
    "knn_predictions = knn.predict(x_test)\n",
    "best_models['KNN'] = knn\n",
    "\n",
    "# Train Naive Bayes Classifier (Gaussian)\n",
    "nb = GaussianNB()\n",
    "nb.fit(x_train, y_train)\n",
    "nb_predictions = nb.predict(x_test)\n",
    "best_models['NaiveBayes'] = nb\n",
    "\n",
    "# Display the best models and parameters\n",
    "for model_name, model in best_models.items():\n",
    "    print(f\"Best {model_name} model:\\n{model}\\n\")\n"
   ]
  },
  {
   "cell_type": "markdown",
   "metadata": {
    "id": "gMB-fLcgbDH3"
   },
   "source": [
    "Making predictions with each of the models"
   ]
  },
  {
   "cell_type": "code",
   "execution_count": 25,
   "metadata": {},
   "outputs": [
    {
     "name": "stderr",
     "output_type": "stream",
     "text": [
      "c:\\Users\\Shashwat Chaturvedi\\OneDrive - iiit-b\\college\\academics\\Third_Year\\sem5\\ML\\assignments\\Project\\venv\\lib\\site-packages\\sklearn\\ensemble\\_weight_boosting.py:527: FutureWarning: The SAMME.R algorithm (the default) is deprecated and will be removed in 1.6. Use the SAMME algorithm to circumvent this warning.\n",
      "  warnings.warn(\n"
     ]
    }
   ],
   "source": [
    "\n",
    "\n",
    "predictions = {}\n",
    "\n",
    "# Make predictions with each best model\n",
    "for model_name, model in best_models.items():\n",
    "    predictions[model_name] = model.predict(x_test)\n",
    "    print(f\"Predictions from {model_name} model:\\n{predictions[model_name]}\\n\")\n",
    "\n"
   ]
  },
  {
   "cell_type": "markdown",
   "metadata": {
    "id": "v0L8_pq-bLA8"
   },
   "source": [
    "Assigning predictions to one variable each"
   ]
  },
  {
   "cell_type": "code",
   "execution_count": null,
   "metadata": {
    "id": "B2SUCd9SYa3H"
   },
   "outputs": [],
   "source": [
    "dt_predictions=predictions[\"decision_tree\"]\n",
    "xgb_predictions=predictions[\"xgboost\"]\n",
    "rf_predictions=predictions[\"random_forest\"]\n",
    "lasso_predictions=predictions[\"lasso\"]\n",
    "ridge_predictions=predictions[\"ridge\"]\n",
    "linear_predictions=predictions[\"logistic\"]"
   ]
  },
  {
   "cell_type": "markdown",
   "metadata": {
    "id": "yFCQUOjXbR_X"
   },
   "source": [
    "Saving the predictions into csv files ."
   ]
  },
  {
   "cell_type": "code",
   "execution_count": 29,
   "metadata": {},
   "outputs": [],
   "source": [
    "results = pd.DataFrame({\n",
    "    'LoanID': test_df.loc[test_df.index.isin(test_df.index), 'LoanID'],  # Accessing PassengerId correctly\n",
    "    'Prediction':  predictions[\"KNN\"]\n",
    "})\n",
    "\n",
    "# 5. Save to CSV\n",
    "results.to_csv('knn_predictions.csv',index=False)"
   ]
  },
  {
   "cell_type": "code",
   "execution_count": 30,
   "metadata": {},
   "outputs": [],
   "source": [
    "results = pd.DataFrame({\n",
    "    'LoanID': test_df.loc[test_df.index.isin(test_df.index), 'LoanID'],  # Accessing PassengerId correctly\n",
    "    'Prediction': predictions[\"AdaBoost\"]\n",
    "})\n",
    "\n",
    "# 5. Save to CSV\n",
    "results.to_csv('adaboost_predictions.csv',index=False)"
   ]
  },
  {
   "cell_type": "code",
   "execution_count": 31,
   "metadata": {},
   "outputs": [],
   "source": [
    "results = pd.DataFrame({\n",
    "    'LoanID': test_df.loc[test_df.index.isin(test_df.index), 'LoanID'],  # Accessing PassengerId correctly\n",
    "    'Prediction': predictions[\"NaiveBayes\"]\n",
    "})\n",
    "\n",
    "# 5. Save to CSV\n",
    "results.to_csv('nb_predictions.csv',index=False)"
   ]
  },
  {
   "cell_type": "code",
   "execution_count": 2,
   "metadata": {
    "id": "SjvtZzlLXPLl"
   },
   "outputs": [
    {
     "ename": "NameError",
     "evalue": "name 'pd' is not defined",
     "output_type": "error",
     "traceback": [
      "\u001b[1;31m---------------------------------------------------------------------------\u001b[0m",
      "\u001b[1;31mNameError\u001b[0m                                 Traceback (most recent call last)",
      "Cell \u001b[1;32mIn[2], line 1\u001b[0m\n\u001b[1;32m----> 1\u001b[0m results \u001b[38;5;241m=\u001b[39m \u001b[43mpd\u001b[49m\u001b[38;5;241m.\u001b[39mDataFrame({\n\u001b[0;32m      2\u001b[0m     \u001b[38;5;124m'\u001b[39m\u001b[38;5;124mLoanID\u001b[39m\u001b[38;5;124m'\u001b[39m: test_df\u001b[38;5;241m.\u001b[39mloc[test_df\u001b[38;5;241m.\u001b[39mindex\u001b[38;5;241m.\u001b[39misin(test_df\u001b[38;5;241m.\u001b[39mindex), \u001b[38;5;124m'\u001b[39m\u001b[38;5;124mLoanID\u001b[39m\u001b[38;5;124m'\u001b[39m],  \u001b[38;5;66;03m# Accessing PassengerId correctly\u001b[39;00m\n\u001b[0;32m      3\u001b[0m     \u001b[38;5;124m'\u001b[39m\u001b[38;5;124mPrediction\u001b[39m\u001b[38;5;124m'\u001b[39m: dt_predictions\n\u001b[0;32m      4\u001b[0m })\n\u001b[0;32m      6\u001b[0m \u001b[38;5;66;03m# 5. Save to CSV\u001b[39;00m\n\u001b[0;32m      7\u001b[0m results\u001b[38;5;241m.\u001b[39mto_csv(\u001b[38;5;124m'\u001b[39m\u001b[38;5;124mdt_predictions.csv\u001b[39m\u001b[38;5;124m'\u001b[39m,index\u001b[38;5;241m=\u001b[39m\u001b[38;5;28;01mFalse\u001b[39;00m)\n",
      "\u001b[1;31mNameError\u001b[0m: name 'pd' is not defined"
     ]
    }
   ],
   "source": [
    "results = pd.DataFrame({\n",
    "    'LoanID': test_df.loc[test_df.index.isin(test_df.index), 'LoanID'],  # Accessing PassengerId correctly\n",
    "    'Prediction': dt_predictions\n",
    "})\n",
    "\n",
    "# 5. Save to CSV\n",
    "results.to_csv('dt_predictions.csv',index=False)"
   ]
  },
  {
   "cell_type": "code",
   "execution_count": null,
   "metadata": {
    "id": "s7Q7-519XZ9g"
   },
   "outputs": [],
   "source": [
    "results = pd.DataFrame({\n",
    "    'LoanID': test_df.loc[test_df.index.isin(test_df.index), 'LoanID'],  # Accessing PassengerId correctly\n",
    "    'Prediction': xgb_predictions\n",
    "})\n",
    "\n",
    "# 5. Save to CSV\n",
    "results.to_csv('xgb_predictions.csv',index=False)"
   ]
  },
  {
   "cell_type": "code",
   "execution_count": null,
   "metadata": {
    "id": "umhDFErCXa2G"
   },
   "outputs": [],
   "source": [
    "results = pd.DataFrame({\n",
    "    'LoanID': test_df.loc[test_df.index.isin(test_df.index), 'LoanID'],  # Accessing PassengerId correctly\n",
    "    'Prediction': rf_predictions\n",
    "})\n",
    "\n",
    "# 5. Save to CSV\n",
    "results.to_csv('rf_predictions.csv',index=False)"
   ]
  },
  {
   "cell_type": "code",
   "execution_count": null,
   "metadata": {
    "id": "t6JfIfmLXbnu"
   },
   "outputs": [],
   "source": [
    "results = pd.DataFrame({\n",
    "    'LoanID': test_df.loc[test_df.index.isin(test_df.index), 'LoanID'],  # Accessing PassengerId correctly\n",
    "    'Prediction': lasso_predictions\n",
    "})\n",
    "\n",
    "# 5. Save to CSV\n",
    "results.to_csv('lasso_predictions.csv',index=False)"
   ]
  },
  {
   "cell_type": "code",
   "execution_count": null,
   "metadata": {
    "id": "UPDwtN0EXcLv"
   },
   "outputs": [],
   "source": [
    "results = pd.DataFrame({\n",
    "    'LoanID': test_df.loc[test_df.index.isin(test_df.index), 'LoanID'],  # Accessing PassengerId correctly\n",
    "    'Prediction': ridge_predictions\n",
    "})\n",
    "\n",
    "# 5. Save to CSV\n",
    "results.to_csv('ridge_predictions.csv',index=False)"
   ]
  },
  {
   "cell_type": "code",
   "execution_count": null,
   "metadata": {
    "id": "zQYRojhuXctp"
   },
   "outputs": [],
   "source": [
    "results = pd.DataFrame({\n",
    "    'LoanID': test_df.loc[test_df.index.isin(test_df.index), 'LoanID'],  # Accessing PassengerId correctly\n",
    "    'Prediction': linear_predictions\n",
    "})\n",
    "\n",
    "# 5. Save to CSV\n",
    "results.to_csv('linear_predictions.csv',index=False)"
   ]
  },
  {
   "cell_type": "markdown",
   "metadata": {},
   "source": [
    "### Skew reduction:-"
   ]
  },
  {
   "cell_type": "markdown",
   "metadata": {},
   "source": [
    "Performing Adaptive Synthetic oversampling on the data and storing them in new variables."
   ]
  },
  {
   "cell_type": "code",
   "execution_count": 43,
   "metadata": {},
   "outputs": [],
   "source": [
    "from imblearn.over_sampling import ADASYN"
   ]
  },
  {
   "cell_type": "code",
   "execution_count": 44,
   "metadata": {},
   "outputs": [],
   "source": [
    "adasyn = ADASYN(random_state=50)\n",
    "x_train_with_sd, y_train_with_sd = adasyn.fit_resample(x_train, y_train)"
   ]
  },
  {
   "cell_type": "markdown",
   "metadata": {},
   "source": [
    "### Training Part 1 models on skew reduced data"
   ]
  },
  {
   "cell_type": "markdown",
   "metadata": {},
   "source": [
    "Making dictionary for doing Grid search over."
   ]
  },
  {
   "cell_type": "code",
   "execution_count": 28,
   "metadata": {},
   "outputs": [],
   "source": [
    "# Dictionary to store the best models and their parameters\n",
    "best_models = {}\n",
    "\n",
    "# Define parameter grids for each model\n",
    "param_grids = {\n",
    "    'decision_tree': {\n",
    "        'max_depth': [None, 10, 20],\n",
    "        'min_samples_split': [2, 5]\n",
    "    },\n",
    "    'xgboost': {\n",
    "        'n_estimators': [50, 100, 150],\n",
    "        'max_depth': [3, 5, 7],\n",
    "        'learning_rate': [0.01, 0.1, 0.2]\n",
    "    },\n",
    "    'random_forest': {\n",
    "        'n_estimators': [50, 100],\n",
    "        'max_depth': [None, 10],\n",
    "        'min_samples_split': [2, 5]\n",
    "    },\n",
    "    'lasso': {\n",
    "        'C': [0.1, 1.0],\n",
    "        'penalty': ['l1'],\n",
    "        'solver': ['liblinear']  # Required for L1 regularization in logistic regression\n",
    "    },\n",
    "    'ridge': {\n",
    "        'C': [0.1, 1.0],\n",
    "        'penalty': ['l2']\n",
    "    }\n",
    "}"
   ]
  },
  {
   "cell_type": "markdown",
   "metadata": {},
   "source": [
    "Training all the models done in part 1."
   ]
  },
  {
   "cell_type": "code",
   "execution_count": null,
   "metadata": {},
   "outputs": [],
   "source": [
    "# Train AdaBoost Classifier\n",
    "ada = AdaBoostClassifier(n_estimators=50, random_state=42)\n",
    "ada.fit(x_train_with_sd, y_train_with_sd)\n",
    "ada_predictions = ada.predict(x_test)\n",
    "best_models['AdaBoost'] = ada\n",
    "\n",
    "# Train K-Nearest Neighbors Classifier\n",
    "knn = KNeighborsClassifier(n_neighbors=5)  # You can tune n_neighbors based on your data\n",
    "knn.fit(x_train_with_sd, y_train_with_sd)\n",
    "knn_predictions = knn.predict(x_test)\n",
    "best_models['KNN'] = knn\n",
    "\n",
    "# Train Naive Bayes Classifier (Gaussian)\n",
    "nb = GaussianNB()\n",
    "nb.fit(x_train_with_sd, y_train_with_sd)\n",
    "nb_predictions = nb.predict(x_test)\n",
    "best_models['NaiveBayes'] = nb"
   ]
  },
  {
   "cell_type": "code",
   "execution_count": 31,
   "metadata": {},
   "outputs": [],
   "source": [
    "# Train and tune XGBoost Classifier\n",
    "xgb = XGBClassifier(objective='binary:logistic' if len(y_train.unique()) == 2 else 'multi:softmax')\n",
    "grid_xgb = GridSearchCV(xgb, param_grids['xgboost'], cv=5)\n",
    "grid_xgb.fit(x_train, y_train)\n",
    "best_models['xgboost'] = grid_xgb.best_estimator_"
   ]
  },
  {
   "cell_type": "code",
   "execution_count": 32,
   "metadata": {},
   "outputs": [],
   "source": [
    "# Train and tune Decision Tree Classifier\n",
    "dt = DecisionTreeClassifier()\n",
    "grid_dt = GridSearchCV(dt, param_grids['decision_tree'], cv=5)\n",
    "grid_dt.fit(x_train, y_train)\n",
    "best_models['decision_tree'] = grid_dt.best_estimator_"
   ]
  },
  {
   "cell_type": "code",
   "execution_count": 33,
   "metadata": {},
   "outputs": [],
   "source": [
    "# Train and tune Random Forest Classifier\n",
    "rf = RandomForestClassifier()\n",
    "grid_rf = GridSearchCV(rf, param_grids['random_forest'], cv=5)\n",
    "grid_rf.fit(x_train, y_train)\n",
    "best_models['random_forest'] = grid_rf.best_estimator_"
   ]
  },
  {
   "cell_type": "code",
   "execution_count": 34,
   "metadata": {},
   "outputs": [],
   "source": [
    "# Train and tune Logistic Regression with L1 penalty (Lasso)\n",
    "lasso = LogisticRegression()\n",
    "grid_lasso = GridSearchCV(lasso, param_grids['lasso'], cv=5)\n",
    "grid_lasso.fit(x_train, y_train)\n",
    "best_models['lasso'] = grid_lasso.best_estimator_"
   ]
  },
  {
   "cell_type": "code",
   "execution_count": 35,
   "metadata": {},
   "outputs": [
    {
     "name": "stderr",
     "output_type": "stream",
     "text": [
      "c:\\Users\\Shashwat Chaturvedi\\OneDrive - iiit-b\\college\\academics\\Third_Year\\sem5\\ML\\assignments\\Project\\venv\\lib\\site-packages\\sklearn\\linear_model\\_logistic.py:469: ConvergenceWarning: lbfgs failed to converge (status=1):\n",
      "STOP: TOTAL NO. of ITERATIONS REACHED LIMIT.\n",
      "\n",
      "Increase the number of iterations (max_iter) or scale the data as shown in:\n",
      "    https://scikit-learn.org/stable/modules/preprocessing.html\n",
      "Please also refer to the documentation for alternative solver options:\n",
      "    https://scikit-learn.org/stable/modules/linear_model.html#logistic-regression\n",
      "  n_iter_i = _check_optimize_result(\n",
      "c:\\Users\\Shashwat Chaturvedi\\OneDrive - iiit-b\\college\\academics\\Third_Year\\sem5\\ML\\assignments\\Project\\venv\\lib\\site-packages\\sklearn\\linear_model\\_logistic.py:469: ConvergenceWarning: lbfgs failed to converge (status=1):\n",
      "STOP: TOTAL NO. of ITERATIONS REACHED LIMIT.\n",
      "\n",
      "Increase the number of iterations (max_iter) or scale the data as shown in:\n",
      "    https://scikit-learn.org/stable/modules/preprocessing.html\n",
      "Please also refer to the documentation for alternative solver options:\n",
      "    https://scikit-learn.org/stable/modules/linear_model.html#logistic-regression\n",
      "  n_iter_i = _check_optimize_result(\n",
      "c:\\Users\\Shashwat Chaturvedi\\OneDrive - iiit-b\\college\\academics\\Third_Year\\sem5\\ML\\assignments\\Project\\venv\\lib\\site-packages\\sklearn\\linear_model\\_logistic.py:469: ConvergenceWarning: lbfgs failed to converge (status=1):\n",
      "STOP: TOTAL NO. of ITERATIONS REACHED LIMIT.\n",
      "\n",
      "Increase the number of iterations (max_iter) or scale the data as shown in:\n",
      "    https://scikit-learn.org/stable/modules/preprocessing.html\n",
      "Please also refer to the documentation for alternative solver options:\n",
      "    https://scikit-learn.org/stable/modules/linear_model.html#logistic-regression\n",
      "  n_iter_i = _check_optimize_result(\n",
      "c:\\Users\\Shashwat Chaturvedi\\OneDrive - iiit-b\\college\\academics\\Third_Year\\sem5\\ML\\assignments\\Project\\venv\\lib\\site-packages\\sklearn\\linear_model\\_logistic.py:469: ConvergenceWarning: lbfgs failed to converge (status=1):\n",
      "STOP: TOTAL NO. of ITERATIONS REACHED LIMIT.\n",
      "\n",
      "Increase the number of iterations (max_iter) or scale the data as shown in:\n",
      "    https://scikit-learn.org/stable/modules/preprocessing.html\n",
      "Please also refer to the documentation for alternative solver options:\n",
      "    https://scikit-learn.org/stable/modules/linear_model.html#logistic-regression\n",
      "  n_iter_i = _check_optimize_result(\n",
      "c:\\Users\\Shashwat Chaturvedi\\OneDrive - iiit-b\\college\\academics\\Third_Year\\sem5\\ML\\assignments\\Project\\venv\\lib\\site-packages\\sklearn\\linear_model\\_logistic.py:469: ConvergenceWarning: lbfgs failed to converge (status=1):\n",
      "STOP: TOTAL NO. of ITERATIONS REACHED LIMIT.\n",
      "\n",
      "Increase the number of iterations (max_iter) or scale the data as shown in:\n",
      "    https://scikit-learn.org/stable/modules/preprocessing.html\n",
      "Please also refer to the documentation for alternative solver options:\n",
      "    https://scikit-learn.org/stable/modules/linear_model.html#logistic-regression\n",
      "  n_iter_i = _check_optimize_result(\n",
      "c:\\Users\\Shashwat Chaturvedi\\OneDrive - iiit-b\\college\\academics\\Third_Year\\sem5\\ML\\assignments\\Project\\venv\\lib\\site-packages\\sklearn\\linear_model\\_logistic.py:469: ConvergenceWarning: lbfgs failed to converge (status=1):\n",
      "STOP: TOTAL NO. of ITERATIONS REACHED LIMIT.\n",
      "\n",
      "Increase the number of iterations (max_iter) or scale the data as shown in:\n",
      "    https://scikit-learn.org/stable/modules/preprocessing.html\n",
      "Please also refer to the documentation for alternative solver options:\n",
      "    https://scikit-learn.org/stable/modules/linear_model.html#logistic-regression\n",
      "  n_iter_i = _check_optimize_result(\n",
      "c:\\Users\\Shashwat Chaturvedi\\OneDrive - iiit-b\\college\\academics\\Third_Year\\sem5\\ML\\assignments\\Project\\venv\\lib\\site-packages\\sklearn\\linear_model\\_logistic.py:469: ConvergenceWarning: lbfgs failed to converge (status=1):\n",
      "STOP: TOTAL NO. of ITERATIONS REACHED LIMIT.\n",
      "\n",
      "Increase the number of iterations (max_iter) or scale the data as shown in:\n",
      "    https://scikit-learn.org/stable/modules/preprocessing.html\n",
      "Please also refer to the documentation for alternative solver options:\n",
      "    https://scikit-learn.org/stable/modules/linear_model.html#logistic-regression\n",
      "  n_iter_i = _check_optimize_result(\n",
      "c:\\Users\\Shashwat Chaturvedi\\OneDrive - iiit-b\\college\\academics\\Third_Year\\sem5\\ML\\assignments\\Project\\venv\\lib\\site-packages\\sklearn\\linear_model\\_logistic.py:469: ConvergenceWarning: lbfgs failed to converge (status=1):\n",
      "STOP: TOTAL NO. of ITERATIONS REACHED LIMIT.\n",
      "\n",
      "Increase the number of iterations (max_iter) or scale the data as shown in:\n",
      "    https://scikit-learn.org/stable/modules/preprocessing.html\n",
      "Please also refer to the documentation for alternative solver options:\n",
      "    https://scikit-learn.org/stable/modules/linear_model.html#logistic-regression\n",
      "  n_iter_i = _check_optimize_result(\n",
      "c:\\Users\\Shashwat Chaturvedi\\OneDrive - iiit-b\\college\\academics\\Third_Year\\sem5\\ML\\assignments\\Project\\venv\\lib\\site-packages\\sklearn\\linear_model\\_logistic.py:469: ConvergenceWarning: lbfgs failed to converge (status=1):\n",
      "STOP: TOTAL NO. of ITERATIONS REACHED LIMIT.\n",
      "\n",
      "Increase the number of iterations (max_iter) or scale the data as shown in:\n",
      "    https://scikit-learn.org/stable/modules/preprocessing.html\n",
      "Please also refer to the documentation for alternative solver options:\n",
      "    https://scikit-learn.org/stable/modules/linear_model.html#logistic-regression\n",
      "  n_iter_i = _check_optimize_result(\n",
      "c:\\Users\\Shashwat Chaturvedi\\OneDrive - iiit-b\\college\\academics\\Third_Year\\sem5\\ML\\assignments\\Project\\venv\\lib\\site-packages\\sklearn\\linear_model\\_logistic.py:469: ConvergenceWarning: lbfgs failed to converge (status=1):\n",
      "STOP: TOTAL NO. of ITERATIONS REACHED LIMIT.\n",
      "\n",
      "Increase the number of iterations (max_iter) or scale the data as shown in:\n",
      "    https://scikit-learn.org/stable/modules/preprocessing.html\n",
      "Please also refer to the documentation for alternative solver options:\n",
      "    https://scikit-learn.org/stable/modules/linear_model.html#logistic-regression\n",
      "  n_iter_i = _check_optimize_result(\n",
      "c:\\Users\\Shashwat Chaturvedi\\OneDrive - iiit-b\\college\\academics\\Third_Year\\sem5\\ML\\assignments\\Project\\venv\\lib\\site-packages\\sklearn\\linear_model\\_logistic.py:469: ConvergenceWarning: lbfgs failed to converge (status=1):\n",
      "STOP: TOTAL NO. of ITERATIONS REACHED LIMIT.\n",
      "\n",
      "Increase the number of iterations (max_iter) or scale the data as shown in:\n",
      "    https://scikit-learn.org/stable/modules/preprocessing.html\n",
      "Please also refer to the documentation for alternative solver options:\n",
      "    https://scikit-learn.org/stable/modules/linear_model.html#logistic-regression\n",
      "  n_iter_i = _check_optimize_result(\n"
     ]
    }
   ],
   "source": [
    "# Train and tune Logistic Regression with L2 penalty (Ridge)\n",
    "ridge = LogisticRegression()\n",
    "grid_ridge = GridSearchCV(ridge, param_grids['ridge'], cv=5)\n",
    "grid_ridge.fit(x_train, y_train)\n",
    "best_models['ridge'] = grid_ridge.best_estimator_\n"
   ]
  },
  {
   "cell_type": "code",
   "execution_count": 36,
   "metadata": {},
   "outputs": [
    {
     "name": "stdout",
     "output_type": "stream",
     "text": [
      "Best xgboost model:\n",
      "XGBClassifier(base_score=None, booster=None, callbacks=None,\n",
      "              colsample_bylevel=None, colsample_bynode=None,\n",
      "              colsample_bytree=None, device=None, early_stopping_rounds=None,\n",
      "              enable_categorical=False, eval_metric=None, feature_types=None,\n",
      "              gamma=None, grow_policy=None, importance_type=None,\n",
      "              interaction_constraints=None, learning_rate=0.1, max_bin=None,\n",
      "              max_cat_threshold=None, max_cat_to_onehot=None,\n",
      "              max_delta_step=None, max_depth=5, max_leaves=None,\n",
      "              min_child_weight=None, missing=nan, monotone_constraints=None,\n",
      "              multi_strategy=None, n_estimators=100, n_jobs=None,\n",
      "              num_parallel_tree=None, random_state=None, ...)\n",
      "\n",
      "Best decision_tree model:\n",
      "DecisionTreeClassifier(max_depth=10)\n",
      "\n",
      "Best random_forest model:\n",
      "RandomForestClassifier(min_samples_split=5)\n",
      "\n",
      "Best lasso model:\n",
      "LogisticRegression(penalty='l1', solver='liblinear')\n",
      "\n",
      "Best ridge model:\n",
      "LogisticRegression(C=0.1)\n",
      "\n"
     ]
    }
   ],
   "source": [
    "# Display the best models and parameters\n",
    "for model_name, model in best_models.items():\n",
    "    print(f\"Best {model_name} model:\\n{model}\\n\")"
   ]
  },
  {
   "cell_type": "code",
   "execution_count": 37,
   "metadata": {},
   "outputs": [
    {
     "name": "stdout",
     "output_type": "stream",
     "text": [
      "Predictions from xgboost model:\n",
      "[0 0 0 ... 0 0 0]\n",
      "\n",
      "Predictions from decision_tree model:\n",
      "[0 0 0 ... 0 0 0]\n",
      "\n",
      "Predictions from random_forest model:\n",
      "[0 0 0 ... 0 0 0]\n",
      "\n",
      "Predictions from lasso model:\n",
      "[0 0 0 ... 0 0 0]\n",
      "\n",
      "Predictions from ridge model:\n",
      "[0 0 0 ... 0 0 0]\n",
      "\n"
     ]
    }
   ],
   "source": [
    "predictions = {}\n",
    "\n",
    "# Make predictions with each best model\n",
    "for model_name, model in best_models.items():\n",
    "    predictions[model_name] = model.predict(x_test)\n",
    "    print(f\"Predictions from {model_name} model:\\n{predictions[model_name]}\\n\")\n"
   ]
  },
  {
   "cell_type": "markdown",
   "metadata": {},
   "source": [
    "Storing the predictions in csv files."
   ]
  },
  {
   "cell_type": "code",
   "execution_count": 38,
   "metadata": {},
   "outputs": [],
   "source": [
    "dt_predictions=predictions[\"decision_tree\"]\n",
    "xgb_predictions=predictions[\"xgboost\"]\n",
    "rf_predictions=predictions[\"random_forest\"]\n",
    "lasso_predictions=predictions[\"lasso\"]\n",
    "ridge_predictions=predictions[\"ridge\"]\n",
    "# linear_predictions=predictions[\"logistic\"]\n",
    "\n",
    "results = pd.DataFrame({\n",
    "    'LoanID': test_df.loc[test_df.index.isin(test_df.index), 'LoanID'],  # Accessing PassengerId correctly\n",
    "    'Prediction': dt_predictions\n",
    "})\n",
    "\n",
    "# 5. Save to CSV\n",
    "results.to_csv('dt_predictions_sd.csv',index=False)\n",
    "\n",
    "results = pd.DataFrame({\n",
    "    'LoanID': test_df.loc[test_df.index.isin(test_df.index), 'LoanID'],  # Accessing PassengerId correctly\n",
    "    'Prediction': xgb_predictions\n",
    "})\n",
    "\n",
    "# 5. Save to CSV\n",
    "results.to_csv('xgb_predictions_sd.csv',index=False)\n",
    "\n",
    "results = pd.DataFrame({\n",
    "    'LoanID': test_df.loc[test_df.index.isin(test_df.index), 'LoanID'],  # Accessing PassengerId correctly\n",
    "    'Prediction': rf_predictions\n",
    "})\n",
    "\n",
    "# 5. Save to CSV\n",
    "results.to_csv('rf_predictions_sd.csv',index=False)\n",
    "\n",
    "results = pd.DataFrame({\n",
    "    'LoanID': test_df.loc[test_df.index.isin(test_df.index), 'LoanID'],  # Accessing PassengerId correctly\n",
    "    'Prediction': lasso_predictions\n",
    "})\n",
    "\n",
    "# 5. Save to CSV\n",
    "results.to_csv('lasso_predictions_sd.csv',index=False)\n",
    "\n",
    "results = pd.DataFrame({\n",
    "    'LoanID': test_df.loc[test_df.index.isin(test_df.index), 'LoanID'],  # Accessing PassengerId correctly\n",
    "    'Prediction': ridge_predictions\n",
    "})\n",
    "\n",
    "# 5. Save to CSV\n",
    "results.to_csv('ridge_predictions_sd.csv',index=False)\n",
    "\n",
    "results = pd.DataFrame({\n",
    "    'LoanID': test_df.loc[test_df.index.isin(test_df.index), 'LoanID'],  # Accessing PassengerId correctly\n",
    "    'Prediction':  predictions[\"KNN\"]\n",
    "})\n",
    "\n",
    "# 5. Save to CSV\n",
    "results.to_csv('knn_predictions_sd.csv',index=False)\n",
    "\n",
    "results = pd.DataFrame({\n",
    "    'LoanID': test_df.loc[test_df.index.isin(test_df.index), 'LoanID'],  # Accessing PassengerId correctly\n",
    "    'Prediction': predictions[\"AdaBoost\"]\n",
    "})\n",
    "\n",
    "# 5. Save to CSV\n",
    "results.to_csv('adaboost_predictions_sd.csv',index=False)\n",
    "\n",
    "results = pd.DataFrame({\n",
    "    'LoanID': test_df.loc[test_df.index.isin(test_df.index), 'LoanID'],  # Accessing PassengerId correctly\n",
    "    'Prediction': predictions[\"NaiveBayes\"]\n",
    "})\n",
    "\n",
    "# 5. Save to CSV\n",
    "results.to_csv('nb_predictions_sd.csv',index=False)\n",
    "\n",
    "\n",
    "\n"
   ]
  },
  {
   "cell_type": "markdown",
   "metadata": {
    "id": "39Vx_xLbjZcz"
   },
   "source": [
    "## PART 2"
   ]
  },
  {
   "cell_type": "markdown",
   "metadata": {},
   "source": [
    "Importing required libraries."
   ]
  },
  {
   "cell_type": "code",
   "execution_count": 15,
   "metadata": {},
   "outputs": [],
   "source": [
    "from sklearn.svm import SVC\n",
    "from sklearn.linear_model import LogisticRegression\n",
    "from sklearn.neural_network import MLPClassifier\n",
    "from sklearn.metrics import accuracy_score"
   ]
  },
  {
   "cell_type": "markdown",
   "metadata": {},
   "source": [
    "### Training the models"
   ]
  },
  {
   "cell_type": "markdown",
   "metadata": {},
   "source": [
    "#### On the normal data"
   ]
  },
  {
   "cell_type": "code",
   "execution_count": null,
   "metadata": {},
   "outputs": [],
   "source": [
    "# Dictionary to store the trained models and their accuracies\n",
    "trained_models = {}"
   ]
  },
  {
   "cell_type": "code",
   "execution_count": 17,
   "metadata": {},
   "outputs": [],
   "source": [
    "# Train SVM with default parameters\n",
    "svm = SVC(kernel='rbf', C=1.0, gamma='scale')\n",
    "svm.fit(x_train, y_train)\n",
    "svm_predictions = svm.predict(x_test)\n",
    "trained_models['svm'] = {\n",
    "    'model': svm,\n",
    "    #'accuracy': accuracy_score(y_test, svm_predictions)\n",
    "}"
   ]
  },
  {
   "cell_type": "code",
   "execution_count": 18,
   "metadata": {},
   "outputs": [],
   "source": [
    "# Train Logistic Regression with default parameters\n",
    "logistic = LogisticRegression(max_iter=1000, solver='liblinear', C=1.0)\n",
    "logistic.fit(x_train, y_train)\n",
    "logistic_predictions = logistic.predict(x_test)\n",
    "trained_models['logistic_regression'] = {\n",
    "    'model': logistic,\n",
    "    #'accuracy': accuracy_score(y_test, logistic_predictions)\n",
    "}"
   ]
  },
  {
   "cell_type": "code",
   "execution_count": 19,
   "metadata": {},
   "outputs": [],
   "source": [
    "# Train Neural Network with default parameters\n",
    "nn = MLPClassifier(hidden_layer_sizes=(100,), activation='relu', solver='adam', max_iter=1000)\n",
    "nn.fit(x_train, y_train)\n",
    "nn_predictions = nn.predict(x_test)\n",
    "trained_models['neural_network'] = {\n",
    "    'model': nn,\n",
    "    #'accuracy': accuracy_score(y_test, nn_predictions)\n",
    "}"
   ]
  },
  {
   "cell_type": "code",
   "execution_count": 20,
   "metadata": {},
   "outputs": [],
   "source": [
    "# Save predictions to CSV files\n",
    "results = pd.DataFrame({\n",
    "    'LoanID': test_df.loc[test_df.index.isin(test_df.index), 'LoanID'],\n",
    "    'Prediction': svm_predictions\n",
    "})\n",
    "results.to_csv('svm_predictions.csv', index=False)\n",
    "\n",
    "results = pd.DataFrame({\n",
    "    'LoanID': test_df.loc[test_df.index.isin(test_df.index), 'LoanID'],\n",
    "    'Prediction': logistic_predictions\n",
    "})\n",
    "results.to_csv('logistic_predictions.csv', index=False)\n",
    "\n",
    "results = pd.DataFrame({\n",
    "    'LoanID': test_df.loc[test_df.index.isin(test_df.index), 'LoanID'],\n",
    "    'Prediction': nn_predictions\n",
    "})\n",
    "results.to_csv('nn_predictions.csv', index=False)"
   ]
  },
  {
   "cell_type": "markdown",
   "metadata": {},
   "source": [
    "#### On the skew reduced data"
   ]
  },
  {
   "cell_type": "code",
   "execution_count": 21,
   "metadata": {},
   "outputs": [],
   "source": [
    "trained_models_with_sd = {}"
   ]
  },
  {
   "cell_type": "code",
   "execution_count": 22,
   "metadata": {},
   "outputs": [],
   "source": [
    "# Train SVM with default parameters\n",
    "svm = SVC(kernel='rbf', C=1.0, gamma='scale')\n",
    "svm.fit(x_train_with_sd, y_train_with_sd)\n",
    "svm_predictions = svm.predict(x_test)\n",
    "trained_models_with_sd['svm'] = {\n",
    "    'model': svm,\n",
    "    #'accuracy': accuracy_score(y_test, svm_predictions)\n",
    "}"
   ]
  },
  {
   "cell_type": "code",
   "execution_count": 23,
   "metadata": {},
   "outputs": [],
   "source": [
    "# Train Logistic Regression with default parameters\n",
    "logistic = LogisticRegression(max_iter=1000, solver='liblinear', C=1.0)\n",
    "logistic.fit(x_train_with_sd, y_train_with_sd)\n",
    "logistic_predictions = logistic.predict(x_test)\n",
    "trained_models_with_sd['logistic_regression'] = {\n",
    "    'model': logistic,\n",
    "    #'accuracy': accuracy_score(y_test, logistic_predictions)\n",
    "}"
   ]
  },
  {
   "cell_type": "code",
   "execution_count": 24,
   "metadata": {},
   "outputs": [],
   "source": [
    "# Train Neural Network with default parameters\n",
    "nn = MLPClassifier(hidden_layer_sizes=(100,), activation='relu', solver='adam', max_iter=1000)\n",
    "nn.fit(x_train_with_sd, y_train_with_sd)\n",
    "nn_predictions = nn.predict(x_test)\n",
    "trained_models_with_sd['neural_network'] = {\n",
    "    'model': nn,\n",
    "    #'accuracy': accuracy_score(y_test, nn_predictions)\n",
    "}"
   ]
  },
  {
   "cell_type": "code",
   "execution_count": 25,
   "metadata": {},
   "outputs": [],
   "source": [
    "# Save predictions to CSV files\n",
    "results = pd.DataFrame({\n",
    "    'LoanID': test_df.loc[test_df.index.isin(test_df.index), 'LoanID'],\n",
    "    'Prediction': svm_predictions\n",
    "})\n",
    "results.to_csv('svm_predictions_sd.csv', index=False)\n",
    "\n",
    "results = pd.DataFrame({\n",
    "    'LoanID': test_df.loc[test_df.index.isin(test_df.index), 'LoanID'],\n",
    "    'Prediction': logistic_predictions\n",
    "})\n",
    "results.to_csv('logistic_predictions_sd.csv', index=False)\n",
    "\n",
    "results = pd.DataFrame({\n",
    "    'LoanID': test_df.loc[test_df.index.isin(test_df.index), 'LoanID'],\n",
    "    'Prediction': nn_predictions\n",
    "})\n",
    "results.to_csv('nn_predictions_sd.csv', index=False)"
   ]
  }
 ],
 "metadata": {
  "colab": {
   "provenance": []
  },
  "kernelspec": {
   "display_name": "venv",
   "language": "python",
   "name": "python3"
  },
  "language_info": {
   "codemirror_mode": {
    "name": "ipython",
    "version": 3
   },
   "file_extension": ".py",
   "mimetype": "text/x-python",
   "name": "python",
   "nbconvert_exporter": "python",
   "pygments_lexer": "ipython3",
   "version": "3.10.0"
  }
 },
 "nbformat": 4,
 "nbformat_minor": 4
}
